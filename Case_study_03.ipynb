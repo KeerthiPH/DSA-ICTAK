{
 "cells": [
  {
   "cell_type": "code",
   "execution_count": 1,
   "id": "2c9d9f59",
   "metadata": {},
   "outputs": [],
   "source": [
    "#importing necessory libraries\n",
    "import numpy as np\n",
    "import pandas as pd\n",
    "import seaborn as sns\n",
    "import matplotlib.pyplot as plt"
   ]
  },
  {
   "cell_type": "code",
   "execution_count": 2,
   "id": "e52bab75",
   "metadata": {
    "scrolled": true
   },
   "outputs": [
    {
     "data": {
      "text/html": [
       "<div>\n",
       "<style scoped>\n",
       "    .dataframe tbody tr th:only-of-type {\n",
       "        vertical-align: middle;\n",
       "    }\n",
       "\n",
       "    .dataframe tbody tr th {\n",
       "        vertical-align: top;\n",
       "    }\n",
       "\n",
       "    .dataframe thead th {\n",
       "        text-align: right;\n",
       "    }\n",
       "</style>\n",
       "<table border=\"1\" class=\"dataframe\">\n",
       "  <thead>\n",
       "    <tr style=\"text-align: right;\">\n",
       "      <th></th>\n",
       "      <th>Date</th>\n",
       "      <th>Add1(in Thousands)</th>\n",
       "      <th>Add2(in Thousands)</th>\n",
       "      <th>Add3(in Thousands)</th>\n",
       "      <th>Add4(in Thousands)</th>\n",
       "      <th>Add5(in Thousands)</th>\n",
       "      <th>Profit(in Thousands)</th>\n",
       "    </tr>\n",
       "  </thead>\n",
       "  <tbody>\n",
       "    <tr>\n",
       "      <th>0</th>\n",
       "      <td>2018-10-08</td>\n",
       "      <td>208.00</td>\n",
       "      <td>222.25</td>\n",
       "      <td>206.85</td>\n",
       "      <td>216.00</td>\n",
       "      <td>215.15</td>\n",
       "      <td>4093.065</td>\n",
       "    </tr>\n",
       "    <tr>\n",
       "      <th>1</th>\n",
       "      <td>2018-10-05</td>\n",
       "      <td>217.00</td>\n",
       "      <td>218.60</td>\n",
       "      <td>205.90</td>\n",
       "      <td>210.25</td>\n",
       "      <td>209.20</td>\n",
       "      <td>4042.448</td>\n",
       "    </tr>\n",
       "    <tr>\n",
       "      <th>2</th>\n",
       "      <td>2018-10-04</td>\n",
       "      <td>223.50</td>\n",
       "      <td>227.80</td>\n",
       "      <td>216.15</td>\n",
       "      <td>217.25</td>\n",
       "      <td>218.20</td>\n",
       "      <td>4213.819</td>\n",
       "    </tr>\n",
       "    <tr>\n",
       "      <th>3</th>\n",
       "      <td>2018-10-03</td>\n",
       "      <td>230.00</td>\n",
       "      <td>237.50</td>\n",
       "      <td>225.75</td>\n",
       "      <td>226.45</td>\n",
       "      <td>227.60</td>\n",
       "      <td>4391.665</td>\n",
       "    </tr>\n",
       "    <tr>\n",
       "      <th>4</th>\n",
       "      <td>2018-10-01</td>\n",
       "      <td>234.55</td>\n",
       "      <td>234.60</td>\n",
       "      <td>221.05</td>\n",
       "      <td>230.30</td>\n",
       "      <td>230.90</td>\n",
       "      <td>4350.683</td>\n",
       "    </tr>\n",
       "  </tbody>\n",
       "</table>\n",
       "</div>"
      ],
      "text/plain": [
       "         Date  Add1(in Thousands)  Add2(in Thousands)  Add3(in Thousands)  \\\n",
       "0  2018-10-08              208.00              222.25              206.85   \n",
       "1  2018-10-05              217.00              218.60              205.90   \n",
       "2  2018-10-04              223.50              227.80              216.15   \n",
       "3  2018-10-03              230.00              237.50              225.75   \n",
       "4  2018-10-01              234.55              234.60              221.05   \n",
       "\n",
       "   Add4(in Thousands)  Add5(in Thousands)  Profit(in Thousands)  \n",
       "0              216.00              215.15              4093.065  \n",
       "1              210.25              209.20              4042.448  \n",
       "2              217.25              218.20              4213.819  \n",
       "3              226.45              227.60              4391.665  \n",
       "4              230.30              230.90              4350.683  "
      ]
     },
     "execution_count": 2,
     "metadata": {},
     "output_type": "execute_result"
    }
   ],
   "source": [
    "#reading dataset to python enviornment\n",
    "data = pd.read_csv('Add_sales_data_2018.csv')\n",
    "data.head()"
   ]
  },
  {
   "cell_type": "code",
   "execution_count": 3,
   "id": "84355105",
   "metadata": {},
   "outputs": [
    {
     "data": {
      "text/html": [
       "<div>\n",
       "<style scoped>\n",
       "    .dataframe tbody tr th:only-of-type {\n",
       "        vertical-align: middle;\n",
       "    }\n",
       "\n",
       "    .dataframe tbody tr th {\n",
       "        vertical-align: top;\n",
       "    }\n",
       "\n",
       "    .dataframe thead th {\n",
       "        text-align: right;\n",
       "    }\n",
       "</style>\n",
       "<table border=\"1\" class=\"dataframe\">\n",
       "  <thead>\n",
       "    <tr style=\"text-align: right;\">\n",
       "      <th></th>\n",
       "      <th>Add1(in Thousands)</th>\n",
       "      <th>Add2(in Thousands)</th>\n",
       "      <th>Add3(in Thousands)</th>\n",
       "      <th>Add4(in Thousands)</th>\n",
       "      <th>Add5(in Thousands)</th>\n",
       "      <th>Profit(in Thousands)</th>\n",
       "    </tr>\n",
       "  </thead>\n",
       "  <tbody>\n",
       "    <tr>\n",
       "      <th>count</th>\n",
       "      <td>205.000000</td>\n",
       "      <td>205.000000</td>\n",
       "      <td>205.000000</td>\n",
       "      <td>205.000000</td>\n",
       "      <td>205.000000</td>\n",
       "      <td>205.000000</td>\n",
       "    </tr>\n",
       "    <tr>\n",
       "      <th>mean</th>\n",
       "      <td>267.577561</td>\n",
       "      <td>271.722439</td>\n",
       "      <td>262.990732</td>\n",
       "      <td>267.223902</td>\n",
       "      <td>267.152683</td>\n",
       "      <td>5059.630234</td>\n",
       "    </tr>\n",
       "    <tr>\n",
       "      <th>std</th>\n",
       "      <td>26.219588</td>\n",
       "      <td>25.914939</td>\n",
       "      <td>26.126704</td>\n",
       "      <td>26.238832</td>\n",
       "      <td>26.215360</td>\n",
       "      <td>486.910414</td>\n",
       "    </tr>\n",
       "    <tr>\n",
       "      <th>min</th>\n",
       "      <td>208.000000</td>\n",
       "      <td>218.600000</td>\n",
       "      <td>205.900000</td>\n",
       "      <td>210.250000</td>\n",
       "      <td>209.200000</td>\n",
       "      <td>4042.448000</td>\n",
       "    </tr>\n",
       "    <tr>\n",
       "      <th>25%</th>\n",
       "      <td>244.000000</td>\n",
       "      <td>248.500000</td>\n",
       "      <td>240.300000</td>\n",
       "      <td>243.050000</td>\n",
       "      <td>243.000000</td>\n",
       "      <td>4617.695000</td>\n",
       "    </tr>\n",
       "    <tr>\n",
       "      <th>50%</th>\n",
       "      <td>269.700000</td>\n",
       "      <td>274.200000</td>\n",
       "      <td>263.250000</td>\n",
       "      <td>268.900000</td>\n",
       "      <td>268.350000</td>\n",
       "      <td>5088.455000</td>\n",
       "    </tr>\n",
       "    <tr>\n",
       "      <th>75%</th>\n",
       "      <td>284.400000</td>\n",
       "      <td>288.800000</td>\n",
       "      <td>280.900000</td>\n",
       "      <td>284.500000</td>\n",
       "      <td>284.450000</td>\n",
       "      <td>5387.438000</td>\n",
       "    </tr>\n",
       "    <tr>\n",
       "      <th>max</th>\n",
       "      <td>327.700000</td>\n",
       "      <td>328.750000</td>\n",
       "      <td>321.650000</td>\n",
       "      <td>325.950000</td>\n",
       "      <td>325.750000</td>\n",
       "      <td>6137.800000</td>\n",
       "    </tr>\n",
       "  </tbody>\n",
       "</table>\n",
       "</div>"
      ],
      "text/plain": [
       "       Add1(in Thousands)  Add2(in Thousands)  Add3(in Thousands)  \\\n",
       "count          205.000000          205.000000          205.000000   \n",
       "mean           267.577561          271.722439          262.990732   \n",
       "std             26.219588           25.914939           26.126704   \n",
       "min            208.000000          218.600000          205.900000   \n",
       "25%            244.000000          248.500000          240.300000   \n",
       "50%            269.700000          274.200000          263.250000   \n",
       "75%            284.400000          288.800000          280.900000   \n",
       "max            327.700000          328.750000          321.650000   \n",
       "\n",
       "       Add4(in Thousands)  Add5(in Thousands)  Profit(in Thousands)  \n",
       "count          205.000000          205.000000            205.000000  \n",
       "mean           267.223902          267.152683           5059.630234  \n",
       "std             26.238832           26.215360            486.910414  \n",
       "min            210.250000          209.200000           4042.448000  \n",
       "25%            243.050000          243.000000           4617.695000  \n",
       "50%            268.900000          268.350000           5088.455000  \n",
       "75%            284.500000          284.450000           5387.438000  \n",
       "max            325.950000          325.750000           6137.800000  "
      ]
     },
     "execution_count": 3,
     "metadata": {},
     "output_type": "execute_result"
    }
   ],
   "source": [
    "# checking basic statistics\n",
    "data.describe()"
   ]
  },
  {
   "cell_type": "code",
   "execution_count": 4,
   "id": "fa6dd1be",
   "metadata": {},
   "outputs": [
    {
     "data": {
      "text/plain": [
       "Date                    False\n",
       "Add1(in Thousands)      False\n",
       "Add2(in Thousands)      False\n",
       "Add3(in Thousands)      False\n",
       "Add4(in Thousands)      False\n",
       "Add5(in Thousands)      False\n",
       "Profit(in Thousands)    False\n",
       "dtype: bool"
      ]
     },
     "execution_count": 4,
     "metadata": {},
     "output_type": "execute_result"
    }
   ],
   "source": [
    "#checking for null values\n",
    "data.isna().any()"
   ]
  },
  {
   "cell_type": "markdown",
   "id": "53274c2a",
   "metadata": {},
   "source": [
    "# 1. check whether there is any relationship between the amount spent for advertising through five different companies and profit generated."
   ]
  },
  {
   "cell_type": "code",
   "execution_count": 5,
   "id": "15b29426",
   "metadata": {},
   "outputs": [
    {
     "data": {
      "image/png": "[encoded data removed]",
      "text/plain": [
       "<Figure size 864x432 with 2 Axes>"
      ]
     },
     "metadata": {
      "needs_background": "light"
     },
     "output_type": "display_data"
    }
   ],
   "source": [
    "#plotting correlation matrix \n",
    "plt.subplots(figsize=(12,6))\n",
    "sns.heatmap(data.corr(),vmin=0.97,vmax=1,annot=True,linewidth=0.2,cmap='YlGnBu')\n",
    "plt.show()"
   ]
  },
  {
   "cell_type": "markdown",
   "id": "738fe713",
   "metadata": {},
   "source": [
    "Insights:\n",
    "    As from the correlation matrix there exist a high positive correlation between amount spent in ads and the profit enerated"
   ]
  },
  {
   "cell_type": "markdown",
   "id": "59148192",
   "metadata": {},
   "source": [
    "# Build a regression model to predict the profit from the given data and comment your findings on it."
   ]
  },
  {
   "cell_type": "code",
   "execution_count": 6,
   "id": "c554e034",
   "metadata": {},
   "outputs": [],
   "source": [
    "# getting data ready for fitting in model\n",
    "#dependent variable is stored in y\n",
    "y=data['Profit(in Thousands)']\n",
    "#independent variable is stored in x\n",
    "X=data.drop(['Date', 'Profit(in Thousands)'],axis=1)"
   ]
  },
  {
   "cell_type": "code",
   "execution_count": 7,
   "id": "7727cc65",
   "metadata": {},
   "outputs": [],
   "source": [
    "#splitting the dataset for training and testing\n",
    "from sklearn.model_selection import train_test_split\n",
    "X_train,X_test,y_train,y_test=train_test_split(X,y,random_state=42,test_size=0.25)"
   ]
  },
  {
   "cell_type": "markdown",
   "id": "ca8fd59a",
   "metadata": {},
   "source": [
    "1. Linear Regression Model"
   ]
  },
  {
   "cell_type": "code",
   "execution_count": 11,
   "id": "f4885e96",
   "metadata": {},
   "outputs": [],
   "source": [
    "from sklearn import linear_model\n",
    "#creating instance of linear regression model\n",
    "lr = linear_model.LinearRegression()\n",
    "\n",
    "#fitting data to model\n",
    "model1 = lr.fit(X_train,y_train)\n",
    "\n",
    "#making prediction\n",
    "prediction = model1.predict(X_test)"
   ]
  },
  {
   "cell_type": "code",
   "execution_count": 12,
   "id": "d5b5d9f6",
   "metadata": {},
   "outputs": [
    {
     "name": "stdout",
     "output_type": "stream",
     "text": [
      "Mean of squared errors of the linear regression model is  8.11273293080854e-25\n",
      "R2 value of the linear regression model is  1.0\n"
     ]
    }
   ],
   "source": [
    "# validating model\n",
    "from sklearn.metrics import mean_squared_error\n",
    "from sklearn.metrics import r2_score\n",
    "MSE = mean_squared_error(prediction,y_test)\n",
    "print('Mean of squared errors of the linear regression model is ',MSE)\n",
    "r2 = r2_score(predictions1,y_test)\n",
    "print('R2 value of the linear regression model is ',r2)"
   ]
  },
  {
   "cell_type": "markdown",
   "id": "bfa9b286",
   "metadata": {},
   "source": [
    "2. Lasso Model"
   ]
  },
  {
   "cell_type": "code",
   "execution_count": 14,
   "id": "3d3fe174",
   "metadata": {},
   "outputs": [],
   "source": [
    "# creating model\n",
    "las = linear_model.Lasso(alpha=1)\n",
    "#fitting the model\n",
    "model = las.fit(X_train,y_train)\n",
    "#predicting\n",
    "prediction = model.predict(X_test)"
   ]
  },
  {
   "cell_type": "code",
   "execution_count": 15,
   "id": "93bb5e8e",
   "metadata": {},
   "outputs": [
    {
     "name": "stdout",
     "output_type": "stream",
     "text": [
      "Mean of squared errors of the lasso model is  0.5840411707385855\n",
      "R2 value of the linear regression model is  1.0\n"
     ]
    }
   ],
   "source": [
    "# validating model\n",
    "MSE = mean_squared_error(prediction,y_test)\n",
    "print('Mean of squared errors of the lasso model is ',MSE)\n",
    "r2 = r2_score(predictions1,y_test)\n",
    "print('R2 value of the linear regression model is ',r2)"
   ]
  },
  {
   "cell_type": "markdown",
   "id": "8de16049",
   "metadata": {},
   "source": [
    "Insights :\n",
    "    Linear regression model performed better than lasso model for the given data set. "
   ]
  },
  {
   "cell_type": "markdown",
   "id": "cd303c95",
   "metadata": {},
   "source": [
    "# Predict the profit generated by the company, if they wish to spend the following amount for advertisement.\n",
    "Add1(in Thousands) 290\n",
    "Add2(in Thousands) 312\n",
    "Add3(in Thousands) 309\n",
    "Add4(in Thousands) 298"
   ]
  },
  {
   "cell_type": "code",
   "execution_count": 16,
   "id": "a1244d86",
   "metadata": {},
   "outputs": [
    {
     "data": {
      "text/plain": [
       "array([5820.06])"
      ]
     },
     "execution_count": 16,
     "metadata": {},
     "output_type": "execute_result"
    }
   ],
   "source": [
    "# we can use regression model for better result\n",
    "model1.predict(np.array([[290, 312,309,298,320]]))"
   ]
  },
  {
   "cell_type": "markdown",
   "id": "8cfdd587",
   "metadata": {},
   "source": [
    "the predicted profit for given data is 5820.06"
   ]
  },
  {
   "cell_type": "code",
   "execution_count": null,
   "id": "86392276",
   "metadata": {},
   "outputs": [],
   "source": []
  }
 ],
 "metadata": {
  "kernelspec": {
   "display_name": "Python 3 (ipykernel)",
   "language": "python",
   "name": "python3"
  },
  "language_info": {
   "codemirror_mode": {
    "name": "ipython",
    "version": 3
   },
   "file_extension": ".py",
   "mimetype": "text/x-python",
   "name": "python",
   "nbconvert_exporter": "python",
   "pygments_lexer": "ipython3",
   "version": "3.9.7"
  }
 },
 "nbformat": 4,
 "nbformat_minor": 5
}
